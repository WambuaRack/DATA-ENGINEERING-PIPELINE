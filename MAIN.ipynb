{
 "cells": [
  {
   "cell_type": "markdown",
   "id": "d747f262",
   "metadata": {},
   "source": [
    "data pipeline, we will be using, pandas and sqlalchemy and mysql"
   ]
  },
  {
   "cell_type": "code",
   "execution_count": 1,
   "id": "54963682",
   "metadata": {},
   "outputs": [],
   "source": [
    "import pandas as pd \n"
   ]
  },
  {
   "cell_type": "code",
   "execution_count": null,
   "id": "1404ef76",
   "metadata": {},
   "outputs": [],
   "source": [
    "#extract the data from a csv\n",
    "\n",
    "df =pd.read_csv(\"netflix_titles.csv\")\n",
    "df.head()"
   ]
  },
  {
   "cell_type": "code",
   "execution_count": 3,
   "id": "f8ab3803",
   "metadata": {},
   "outputs": [
    {
     "data": {
      "text/plain": [
       "Index(['show_id', 'type', 'title', 'director', 'cast', 'country', 'date_added',\n",
       "       'release_year', 'rating', 'duration', 'listed_in', 'description'],\n",
       "      dtype='object')"
      ]
     },
     "execution_count": 3,
     "metadata": {},
     "output_type": "execute_result"
    }
   ],
   "source": [
    "df.columns"
   ]
  },
  {
   "cell_type": "code",
   "execution_count": 4,
   "id": "dac70ee0",
   "metadata": {},
   "outputs": [],
   "source": [
    "#preprocess/ transform the data\n",
    "\n",
    "#drop duplicates\n",
    "df.drop_duplicates(inplace=True)"
   ]
  },
  {
   "cell_type": "code",
   "execution_count": null,
   "id": "1a50e34f",
   "metadata": {},
   "outputs": [],
   "source": [
    "#filling null values in specific columns\n",
    "df['cast'].fillna('unknown', inplace=True)\n",
    "df['director'].fillna('unknown', inplace=True)\n",
    "df['country'].fillna('unknown', inplace=True)\n",
    "\n",
    "\n"
   ]
  },
  {
   "cell_type": "code",
   "execution_count": 6,
   "id": "6f7d6e05",
   "metadata": {},
   "outputs": [],
   "source": [
    "#convert date_added to date_time\n",
    "\n",
    "df['date_added']=pd.to_datetime(df['date_added'], errors='coerce')"
   ]
  },
  {
   "cell_type": "code",
   "execution_count": 7,
   "id": "6239ab85",
   "metadata": {},
   "outputs": [],
   "source": [
    "#add a column called release_decade\n",
    "df['release_decade']=(df['release_year']//10)*10\n"
   ]
  },
  {
   "cell_type": "code",
   "execution_count": null,
   "id": "d0952ded",
   "metadata": {},
   "outputs": [],
   "source": [
    "df.head()"
   ]
  },
  {
   "cell_type": "code",
   "execution_count": 15,
   "id": "b9972610",
   "metadata": {},
   "outputs": [
    {
     "name": "stdout",
     "output_type": "stream",
     "text": [
      "[2025-05-26 12:40:56.078291] ETL job completed.\n"
     ]
    }
   ],
   "source": [
    "from datetime import datetime\n",
    "from sqlalchemy import create_engine\n",
    "# Database credentials\n",
    "username = 'root'\n",
    "password = ''  # If no password, leave it empty\n",
    "host = 'localhost'\n",
    "port = '3306'  # ⚠️ Default MySQL port is 3306, not 5432\n",
    "database = 'netflix_db'\n",
    "\n",
    "# Create MySQL connection engine using pymysql\n",
    "engine = create_engine(f'mysql+pymysql://{username}:{password}@{host}:{port}/{database}')\n",
    "\n",
    "# Load data into MySQL\n",
    "df.to_sql('netflix_titles', con=engine, if_exists='replace', index=False)\n",
    "\n",
    "print(f\"[{datetime.now()}] ETL job completed.\")"
   ]
  }
 ],
 "metadata": {
  "kernelspec": {
   "display_name": "Python 3",
   "language": "python",
   "name": "python3"
  },
  "language_info": {
   "codemirror_mode": {
    "name": "ipython",
    "version": 3
   },
   "file_extension": ".py",
   "mimetype": "text/x-python",
   "name": "python",
   "nbconvert_exporter": "python",
   "pygments_lexer": "ipython3",
   "version": "3.10.6"
  }
 },
 "nbformat": 4,
 "nbformat_minor": 5
}
